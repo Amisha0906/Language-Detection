{
 "cells": [
  {
   "cell_type": "code",
   "execution_count": 5,
   "id": "71014abe-7dba-4317-8d9d-d18f989726b7",
   "metadata": {},
   "outputs": [],
   "source": [
    "import pandas as pd\n",
    "url_dataset = 'https://drive.google.com/file/d/1QoQqoySv1-lo7XpIwhs5kR2PtxZBKxZG/view?usp=drive_link'\n",
    "file_id = url_dataset.split('/')[-2]\n",
    "\n",
    "dwn_url = 'https://drive.google.com/uc?id=' + file_id\n",
    "df = pd.read_csv(dwn_url)"
   ]
  },
  {
   "cell_type": "code",
   "execution_count": 25,
   "id": "484bc53f-d5b1-4e00-bdf3-60920fcae33d",
   "metadata": {},
   "outputs": [
    {
     "data": {
      "text/html": [
       "<div>\n",
       "<style scoped>\n",
       "    .dataframe tbody tr th:only-of-type {\n",
       "        vertical-align: middle;\n",
       "    }\n",
       "\n",
       "    .dataframe tbody tr th {\n",
       "        vertical-align: top;\n",
       "    }\n",
       "\n",
       "    .dataframe thead th {\n",
       "        text-align: right;\n",
       "    }\n",
       "</style>\n",
       "<table border=\"1\" class=\"dataframe\">\n",
       "  <thead>\n",
       "    <tr style=\"text-align: right;\">\n",
       "      <th></th>\n",
       "      <th>Unnamed: 0</th>\n",
       "      <th>id</th>\n",
       "      <th>sentence</th>\n",
       "      <th>iso639-3</th>\n",
       "      <th>iso15924</th>\n",
       "      <th>language</th>\n",
       "    </tr>\n",
       "  </thead>\n",
       "  <tbody>\n",
       "    <tr>\n",
       "      <th>0</th>\n",
       "      <td>0</td>\n",
       "      <td>mal_Mlym</td>\n",
       "      <td>സ്വയരക്ഷാബോധത്തോടും സ്വാതന്ത്ര്യത്തോടും കൂടി ജ...</td>\n",
       "      <td>mal</td>\n",
       "      <td>Mlym</td>\n",
       "      <td>Malayalam</td>\n",
       "    </tr>\n",
       "    <tr>\n",
       "      <th>1</th>\n",
       "      <td>1</td>\n",
       "      <td>mal_Mlym</td>\n",
       "      <td>രാഷ്ട്രീയങ്ങളല്ലാത്ത കുറ്റങ്ങൾക്കും ഐക്യരാഷ്ട്...</td>\n",
       "      <td>mal</td>\n",
       "      <td>Mlym</td>\n",
       "      <td>Malayalam</td>\n",
       "    </tr>\n",
       "    <tr>\n",
       "      <th>2</th>\n",
       "      <td>2</td>\n",
       "      <td>mal_Mlym</td>\n",
       "      <td>രാഷ്ട്രീയങ്ങളല്ലാത്ത കുറ്റങ്ങള്‍ക്കും ഐക്യരാഷ്...</td>\n",
       "      <td>mal</td>\n",
       "      <td>Mlym</td>\n",
       "      <td>Malayalam</td>\n",
       "    </tr>\n",
       "    <tr>\n",
       "      <th>3</th>\n",
       "      <td>3</td>\n",
       "      <td>mal_Mlym</td>\n",
       "      <td>തുല്യമായ പ്രവൃത്തിയെടുത്താൽ തുല്യമായ ശമ്പളത്തി...</td>\n",
       "      <td>mal</td>\n",
       "      <td>Mlym</td>\n",
       "      <td>Malayalam</td>\n",
       "    </tr>\n",
       "    <tr>\n",
       "      <th>4</th>\n",
       "      <td>4</td>\n",
       "      <td>mal_Mlym</td>\n",
       "      <td>സമുദായത്തിലെ സാംസ്കാരിക സംരംഭങ്ങളില്‍ പങ്കെടുക...</td>\n",
       "      <td>mal</td>\n",
       "      <td>Mlym</td>\n",
       "      <td>Malayalam</td>\n",
       "    </tr>\n",
       "  </tbody>\n",
       "</table>\n",
       "</div>"
      ],
      "text/plain": [
       "   Unnamed: 0        id                                           sentence  \\\n",
       "0           0  mal_Mlym  സ്വയരക്ഷാബോധത്തോടും സ്വാതന്ത്ര്യത്തോടും കൂടി ജ...   \n",
       "1           1  mal_Mlym  രാഷ്ട്രീയങ്ങളല്ലാത്ത കുറ്റങ്ങൾക്കും ഐക്യരാഷ്ട്...   \n",
       "2           2  mal_Mlym  രാഷ്ട്രീയങ്ങളല്ലാത്ത കുറ്റങ്ങള്‍ക്കും ഐക്യരാഷ്...   \n",
       "3           3  mal_Mlym  തുല്യമായ പ്രവൃത്തിയെടുത്താൽ തുല്യമായ ശമ്പളത്തി...   \n",
       "4           4  mal_Mlym  സമുദായത്തിലെ സാംസ്കാരിക സംരംഭങ്ങളില്‍ പങ്കെടുക...   \n",
       "\n",
       "  iso639-3 iso15924   language  \n",
       "0      mal     Mlym  Malayalam  \n",
       "1      mal     Mlym  Malayalam  \n",
       "2      mal     Mlym  Malayalam  \n",
       "3      mal     Mlym  Malayalam  \n",
       "4      mal     Mlym  Malayalam  "
      ]
     },
     "execution_count": 25,
     "metadata": {},
     "output_type": "execute_result"
    }
   ],
   "source": [
    "df.head()"
   ]
  },
  {
   "cell_type": "code",
   "execution_count": 26,
   "id": "3c9ff550-899f-4c69-9165-fb4945a6e683",
   "metadata": {},
   "outputs": [],
   "source": [
    "df = df[['sentence', 'language']]"
   ]
  },
  {
   "cell_type": "code",
   "execution_count": 27,
   "id": "2737b6fc-e0a1-4eb3-8d41-9fd246c91ae1",
   "metadata": {},
   "outputs": [
    {
     "name": "stderr",
     "output_type": "stream",
     "text": [
      "C:\\Users\\hiami\\AppData\\Local\\Temp\\ipykernel_24988\\63222663.py:1: SettingWithCopyWarning: \n",
      "A value is trying to be set on a copy of a slice from a DataFrame\n",
      "\n",
      "See the caveats in the documentation: https://pandas.pydata.org/pandas-docs/stable/user_guide/indexing.html#returning-a-view-versus-a-copy\n",
      "  df.rename(columns={'sentence': 'Text', 'language':'Language'}, inplace=True)\n"
     ]
    }
   ],
   "source": [
    "df.rename(columns={'sentence': 'Text', 'language':'Language'}, inplace=True)"
   ]
  },
  {
   "cell_type": "code",
   "execution_count": 30,
   "id": "189f801d-1897-4167-8ff2-9efdf236c1af",
   "metadata": {
    "scrolled": true
   },
   "outputs": [
    {
     "data": {
      "text/plain": [
       "Language\n",
       "Hausa         155\n",
       "Japanese      143\n",
       "Javanese      122\n",
       "Haitian       117\n",
       "Portuguese    115\n",
       "Thai          114\n",
       "Urdu          108\n",
       "Malayalam     100\n",
       "Romanian       97\n",
       "Spanish        78\n",
       "Tamil          69\n",
       "German         67\n",
       "Saraiki        63\n",
       "Swedish        61\n",
       "Tagalog        61\n",
       "Shona          60\n",
       "Hindi          60\n",
       "Indonesian     60\n",
       "Vietnamese     60\n",
       "Polish         59\n",
       "Cebuano        59\n",
       "Turkish        59\n",
       "Sinhala        59\n",
       "Khmer          59\n",
       "Hungarian      59\n",
       "Marathi        59\n",
       "Telugu         58\n",
       "Korean         58\n",
       "Zulu           58\n",
       "Dutch          58\n",
       "Maithili       58\n",
       "Czech          58\n",
       "French         58\n",
       "Ukrainian      58\n",
       "English        58\n",
       "Igbo           58\n",
       "Gujarati       58\n",
       "Italian        58\n",
       "Kannada        58\n",
       "Bulgarian      58\n",
       "Russian        58\n",
       "Kazakh         58\n",
       "Panjabi        58\n",
       "Bengali        58\n",
       "Hiligaynon     58\n",
       "Yoruba         57\n",
       "Tatar          57\n",
       "Somali         57\n",
       "Burmese        56\n",
       "Bhojpuri       56\n",
       "Magahi         53\n",
       "Name: count, dtype: int64"
      ]
     },
     "execution_count": 30,
     "metadata": {},
     "output_type": "execute_result"
    }
   ],
   "source": [
    "df['Language'].value_counts()"
   ]
  },
  {
   "cell_type": "code",
   "execution_count": 7,
   "id": "366095eb-2e33-4087-85f0-db8a9a4c5614",
   "metadata": {},
   "outputs": [],
   "source": [
    "with open(\"../../../Downloads/language_dataset_small.csv\", \"r\", encoding=\"utf-8\", errors=\"ignore\") as file:\n",
    "    content = file.read()\n",
    "\n",
    "from io import StringIO\n",
    "df2 = pd.read_csv(StringIO(content))"
   ]
  },
  {
   "cell_type": "code",
   "execution_count": 9,
   "id": "e2749374-e291-4372-af5b-9e13b7357e09",
   "metadata": {},
   "outputs": [],
   "source": [
    "df2 = df2[['Text', 'Language']]"
   ]
  },
  {
   "cell_type": "code",
   "execution_count": 10,
   "id": "4a3ecc91-f4dd-4182-a64f-d357b2f00a54",
   "metadata": {
    "scrolled": true
   },
   "outputs": [
    {
     "data": {
      "text/html": [
       "<div>\n",
       "<style scoped>\n",
       "    .dataframe tbody tr th:only-of-type {\n",
       "        vertical-align: middle;\n",
       "    }\n",
       "\n",
       "    .dataframe tbody tr th {\n",
       "        vertical-align: top;\n",
       "    }\n",
       "\n",
       "    .dataframe thead th {\n",
       "        text-align: right;\n",
       "    }\n",
       "</style>\n",
       "<table border=\"1\" class=\"dataframe\">\n",
       "  <thead>\n",
       "    <tr style=\"text-align: right;\">\n",
       "      <th></th>\n",
       "      <th>Text</th>\n",
       "      <th>Language</th>\n",
       "    </tr>\n",
       "  </thead>\n",
       "  <tbody>\n",
       "    <tr>\n",
       "      <th>0</th>\n",
       "      <td>Nature, in the broadest sense, is the natural...</td>\n",
       "      <td>English</td>\n",
       "    </tr>\n",
       "    <tr>\n",
       "      <th>1</th>\n",
       "      <td>\"Nature\" can refer to the phenomena of the phy...</td>\n",
       "      <td>English</td>\n",
       "    </tr>\n",
       "    <tr>\n",
       "      <th>2</th>\n",
       "      <td>The study of nature is a large, if not the onl...</td>\n",
       "      <td>English</td>\n",
       "    </tr>\n",
       "    <tr>\n",
       "      <th>3</th>\n",
       "      <td>Although humans are part of nature, human acti...</td>\n",
       "      <td>English</td>\n",
       "    </tr>\n",
       "    <tr>\n",
       "      <th>4</th>\n",
       "      <td>[1] The word nature is borrowed from the Old F...</td>\n",
       "      <td>English</td>\n",
       "    </tr>\n",
       "  </tbody>\n",
       "</table>\n",
       "</div>"
      ],
      "text/plain": [
       "                                                Text Language\n",
       "0   Nature, in the broadest sense, is the natural...  English\n",
       "1  \"Nature\" can refer to the phenomena of the phy...  English\n",
       "2  The study of nature is a large, if not the onl...  English\n",
       "3  Although humans are part of nature, human acti...  English\n",
       "4  [1] The word nature is borrowed from the Old F...  English"
      ]
     },
     "execution_count": 10,
     "metadata": {},
     "output_type": "execute_result"
    }
   ],
   "source": [
    "df2.head()"
   ]
  },
  {
   "cell_type": "code",
   "execution_count": 15,
   "id": "f1c7ab49-7c0f-4936-ac7a-4e92f8c782c1",
   "metadata": {},
   "outputs": [
    {
     "data": {
      "text/plain": [
       "array(['English', 'Malayalam', 'Hindi', nan,\n",
       "       \" अब आप सोच सकते हैं कि शब्द फिक्स का कुछ करना है कुछ मरम्मत के साथ। लेकिन एक फिक्स में कोई भी परेशानी का मतलब नहीं है एक परेशानी की स्थिति में दूसरे शब्दों का उपयोग करें जिन्हें आप एक फिक्स में उपयोग कर सकते हैं मैं एक सूप में हूं या मैं ' एक गड़बड़ में हूँ या मैं परेशान के एक स्थान पर हूँ या बस मैं एक स्पॉट में हूँ स्मार्ट शब्द संख्या 7 है फ्लुमॉक्स फ्लुमोक्स का मतलब किसी को भ्रमित करना है। इतना है कि वे भूल जाते हैं कि अब क्या करना है उलझन में एक अति प्रयोग शब्द हो जाता है तो इसके बजाय आप उदाहरण के लिए flummox का उपयोग क्यों नहीं करते हैं। लड़का पूरी तरह से दिखता है ।flummoxed जब शिक्षक ने उसे कक्षा में एक सवाल पूछा या कुत्ते को देख शराबी हो गया। दर्पण में अपने स्वयं के प्रतिबिंब या पर्यटक को अलग-अलग रीति-रिवाजों से लाद दिया गया था। अपनी यात्रा के दौरान या एक साक्षात्कार के दौरान उनका सामना हुआ\",\n",
       "       'Tamil', 'Portugeese', 'French', 'Dutch', 'Spanish', 'Greek',\n",
       "       'Russian', 'Danish', 'Italian', 'Turkish', 'Sweedish', 'Arabic',\n",
       "       'German', 'Kannada', 'Estonian', 'Swedish', 'Thai', 'Japanese',\n",
       "       'Latin', 'Urdu', 'Indonesian', 'Portugese', 'Chinese', 'Korean',\n",
       "       'Pushto', 'Persian', 'Romanian', 'Bengali'], dtype=object)"
      ]
     },
     "execution_count": 15,
     "metadata": {},
     "output_type": "execute_result"
    }
   ],
   "source": [
    "df2['Language'].unique()"
   ]
  },
  {
   "cell_type": "code",
   "execution_count": 19,
   "id": "245b6518-7219-4768-92cb-e28d4a6b189f",
   "metadata": {},
   "outputs": [],
   "source": [
    "languages = ['English', 'Malayalam', 'Hindi','Tamil', 'Portugeese', 'French', 'Dutch', 'Spanish', 'Greek',\n",
    "       'Russian', 'Danish', 'Italian', 'Turkish', 'Sweedish', 'Arabic',\n",
    "       'German', 'Kannada', 'Estonian', 'Swedish', 'Thai', 'Japanese',\n",
    "       'Latin', 'Urdu', 'Indonesian', 'Portugese', 'Chinese', 'Korean',\n",
    "       'Pushto', 'Persian', 'Romanian', 'Bengali']\n",
    "filtered_df = df2[df2[\"Language\"].isin(languages)]"
   ]
  },
  {
   "cell_type": "code",
   "execution_count": 23,
   "id": "ea845548-c313-4277-b634-ef1a1119f8e1",
   "metadata": {
    "scrolled": true
   },
   "outputs": [
    {
     "data": {
      "text/plain": [
       "Language\n",
       "English       2385\n",
       "French        2014\n",
       "Spanish       1819\n",
       "Russian       1692\n",
       "Dutch         1546\n",
       "Arabic        1536\n",
       "Turkish       1473\n",
       "Tamil         1469\n",
       "Hindi         1062\n",
       "Thai          1000\n",
       "Japanese      1000\n",
       "Indonesian    1000\n",
       "Latin         1000\n",
       "Urdu          1000\n",
       "Estonian      1000\n",
       "Portugese     1000\n",
       "Swedish       1000\n",
       "Chinese       1000\n",
       "Pushto        1000\n",
       "Korean        1000\n",
       "Persian       1000\n",
       "Romanian      1000\n",
       "Portugeese     739\n",
       "Italian        698\n",
       "Sweedish       676\n",
       "Malayalam      594\n",
       "German         470\n",
       "Danish         428\n",
       "Kannada        369\n",
       "Greek          365\n",
       "Bengali         58\n",
       "Name: count, dtype: int64"
      ]
     },
     "execution_count": 23,
     "metadata": {},
     "output_type": "execute_result"
    }
   ],
   "source": [
    "filtered_df['Language'].value_counts()"
   ]
  },
  {
   "cell_type": "code",
   "execution_count": 33,
   "id": "e7aef4c8-35e9-4631-9035-d5ccc71a2c50",
   "metadata": {},
   "outputs": [
    {
     "data": {
      "text/plain": [
       "(3561, 2)"
      ]
     },
     "execution_count": 33,
     "metadata": {},
     "output_type": "execute_result"
    }
   ],
   "source": [
    "df.shape"
   ]
  },
  {
   "cell_type": "code",
   "execution_count": 34,
   "id": "24b01898-df20-4115-a154-50a1af7bf0c3",
   "metadata": {},
   "outputs": [
    {
     "data": {
      "text/plain": [
       "(32393, 2)"
      ]
     },
     "execution_count": 34,
     "metadata": {},
     "output_type": "execute_result"
    }
   ],
   "source": [
    "filtered_df.shape"
   ]
  },
  {
   "cell_type": "code",
   "execution_count": 35,
   "id": "4ba8b80e-087a-43a0-8a00-4a6c29f8aedd",
   "metadata": {},
   "outputs": [],
   "source": [
    "merged_df = pd.concat([df, filtered_df], axis=0)"
   ]
  },
  {
   "cell_type": "code",
   "execution_count": 37,
   "id": "29dcdba2-b76d-47d3-8315-1df2d5a5ec53",
   "metadata": {},
   "outputs": [
    {
     "data": {
      "text/plain": [
       "(35954, 2)"
      ]
     },
     "execution_count": 37,
     "metadata": {},
     "output_type": "execute_result"
    }
   ],
   "source": [
    "merged_df.shape"
   ]
  },
  {
   "cell_type": "code",
   "execution_count": 41,
   "id": "7c590e5a-a47d-45c2-9275-1ab32b3ea25f",
   "metadata": {},
   "outputs": [
    {
     "data": {
      "text/plain": [
       "Language\n",
       "English     2443\n",
       "French      2072\n",
       "Spanish     1897\n",
       "Russian     1750\n",
       "Dutch       1604\n",
       "            ... \n",
       "Yoruba        57\n",
       "Somali        57\n",
       "Burmese       56\n",
       "Bhojpuri      56\n",
       "Magahi        53\n",
       "Name: count, Length: 62, dtype: int64"
      ]
     },
     "execution_count": 41,
     "metadata": {},
     "output_type": "execute_result"
    }
   ],
   "source": [
    "merged_df['Language'].value_counts()"
   ]
  },
  {
   "cell_type": "code",
   "execution_count": 42,
   "id": "a39267dd-44df-410c-b98e-3b0ca1894c13",
   "metadata": {},
   "outputs": [],
   "source": [
    "merged_df.to_csv('language_dataset.csv')"
   ]
  },
  {
   "cell_type": "code",
   "execution_count": null,
   "id": "ac066cfa-2787-4bdf-8e66-49caa7ce450c",
   "metadata": {},
   "outputs": [],
   "source": []
  }
 ],
 "metadata": {
  "kernelspec": {
   "display_name": "Python 3 (ipykernel)",
   "language": "python",
   "name": "python3"
  },
  "language_info": {
   "codemirror_mode": {
    "name": "ipython",
    "version": 3
   },
   "file_extension": ".py",
   "mimetype": "text/x-python",
   "name": "python",
   "nbconvert_exporter": "python",
   "pygments_lexer": "ipython3",
   "version": "3.12.8"
  }
 },
 "nbformat": 4,
 "nbformat_minor": 5
}
